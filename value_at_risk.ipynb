{
 "cells": [
  {
   "cell_type": "markdown",
   "metadata": {},
   "source": [
    "# Value at Risk using historical method for a one-asset and portfolio"
   ]
  },
  {
   "cell_type": "markdown",
   "metadata": {},
   "source": [
    "\"**Value at risk (VaR)** is a statistic that quantifies the extent of possible financial losses within a firm, portfolio, or position over a specific time frame. This metric is most commonly used by investment and commercial banks to determine the extent and probabilities of potential losses in their institutional portfolios. Risk managers use VaR to measure and control the level of risk exposure. One can apply VaR calculations to specific positions or whole portfolios or use them to measure firm-wide risk exposure.\n",
    "\n",
    "The **historical method** looks at one’s prior returns history and orders them from worst losses to greatest gains—following from the premise that past returns experience will inform future outcomes.\"\n",
    "\n",
    "Source: https://www.investopedia.com/terms/v/var.asp"
   ]
  },
  {
   "cell_type": "code",
   "execution_count": null,
   "metadata": {},
   "outputs": [],
   "source": [
    "import pandas as pd \n",
    "import numpy as np\n",
    "import matplotlib.pyplot as plt\n",
    "import seaborn as sns\n",
    "import yfinance as yf\n",
    "from scipy import stats"
   ]
  },
  {
   "cell_type": "markdown",
   "metadata": {},
   "source": [
    "# One-asset Value at Risk"
   ]
  },
  {
   "cell_type": "code",
   "execution_count": null,
   "metadata": {},
   "outputs": [
    {
     "name": "stdout",
     "output_type": "stream",
     "text": [
      "[*********************100%***********************]  1 of 1 completed\n"
     ]
    }
   ],
   "source": [
    "hist = yf.download('AAPL', start='2023-01-01', end='2024-01-01')\n",
    "hist.drop(columns=['Open', 'Close', 'High', 'Low', 'Volume'], inplace=True)"
   ]
  },
  {
   "cell_type": "code",
   "execution_count": null,
   "metadata": {},
   "outputs": [],
   "source": [
    "hist['Returns'] = hist['Adj Close'].pct_change()\n",
    "hist = hist.dropna(subset='Returns')"
   ]
  },
  {
   "cell_type": "code",
   "execution_count": null,
   "metadata": {},
   "outputs": [
    {
     "data": {
      "text/html": [
       "<div>\n",
       "<style scoped>\n",
       "    .dataframe tbody tr th:only-of-type {\n",
       "        vertical-align: middle;\n",
       "    }\n",
       "\n",
       "    .dataframe tbody tr th {\n",
       "        vertical-align: top;\n",
       "    }\n",
       "\n",
       "    .dataframe thead th {\n",
       "        text-align: right;\n",
       "    }\n",
       "</style>\n",
       "<table border=\"1\" class=\"dataframe\">\n",
       "  <thead>\n",
       "    <tr style=\"text-align: right;\">\n",
       "      <th></th>\n",
       "      <th>Adj Close</th>\n",
       "      <th>Returns</th>\n",
       "    </tr>\n",
       "    <tr>\n",
       "      <th>Date</th>\n",
       "      <th></th>\n",
       "      <th></th>\n",
       "    </tr>\n",
       "  </thead>\n",
       "  <tbody>\n",
       "    <tr>\n",
       "      <th>2023-01-04</th>\n",
       "      <td>125.657639</td>\n",
       "      <td>0.010314</td>\n",
       "    </tr>\n",
       "    <tr>\n",
       "      <th>2023-01-05</th>\n",
       "      <td>124.325081</td>\n",
       "      <td>-0.010605</td>\n",
       "    </tr>\n",
       "    <tr>\n",
       "      <th>2023-01-06</th>\n",
       "      <td>128.899521</td>\n",
       "      <td>0.036794</td>\n",
       "    </tr>\n",
       "    <tr>\n",
       "      <th>2023-01-09</th>\n",
       "      <td>129.426575</td>\n",
       "      <td>0.004089</td>\n",
       "    </tr>\n",
       "    <tr>\n",
       "      <th>2023-01-10</th>\n",
       "      <td>130.003342</td>\n",
       "      <td>0.004456</td>\n",
       "    </tr>\n",
       "    <tr>\n",
       "      <th>...</th>\n",
       "      <td>...</td>\n",
       "      <td>...</td>\n",
       "    </tr>\n",
       "    <tr>\n",
       "      <th>2023-12-22</th>\n",
       "      <td>193.600006</td>\n",
       "      <td>-0.005547</td>\n",
       "    </tr>\n",
       "    <tr>\n",
       "      <th>2023-12-26</th>\n",
       "      <td>193.050003</td>\n",
       "      <td>-0.002841</td>\n",
       "    </tr>\n",
       "    <tr>\n",
       "      <th>2023-12-27</th>\n",
       "      <td>193.149994</td>\n",
       "      <td>0.000518</td>\n",
       "    </tr>\n",
       "    <tr>\n",
       "      <th>2023-12-28</th>\n",
       "      <td>193.580002</td>\n",
       "      <td>0.002226</td>\n",
       "    </tr>\n",
       "    <tr>\n",
       "      <th>2023-12-29</th>\n",
       "      <td>192.529999</td>\n",
       "      <td>-0.005424</td>\n",
       "    </tr>\n",
       "  </tbody>\n",
       "</table>\n",
       "<p>249 rows × 2 columns</p>\n",
       "</div>"
      ],
      "text/plain": [
       "             Adj Close   Returns\n",
       "Date                            \n",
       "2023-01-04  125.657639  0.010314\n",
       "2023-01-05  124.325081 -0.010605\n",
       "2023-01-06  128.899521  0.036794\n",
       "2023-01-09  129.426575  0.004089\n",
       "2023-01-10  130.003342  0.004456\n",
       "...                ...       ...\n",
       "2023-12-22  193.600006 -0.005547\n",
       "2023-12-26  193.050003 -0.002841\n",
       "2023-12-27  193.149994  0.000518\n",
       "2023-12-28  193.580002  0.002226\n",
       "2023-12-29  192.529999 -0.005424\n",
       "\n",
       "[249 rows x 2 columns]"
      ]
     },
     "execution_count": 297,
     "metadata": {},
     "output_type": "execute_result"
    }
   ],
   "source": [
    "hist"
   ]
  },
  {
   "cell_type": "markdown",
   "metadata": {},
   "source": [
    "## 0.95 confidence interval\n",
    "\n",
    "We expect to lose no more than 1.718% of the value of our position, 95% of the time"
   ]
  },
  {
   "cell_type": "code",
   "execution_count": null,
   "metadata": {},
   "outputs": [
    {
     "name": "stdout",
     "output_type": "stream",
     "text": [
      "0.01717651358146146\n"
     ]
    }
   ],
   "source": [
    "confidence_interval = 0.95\n",
    "VaR = -np.percentile(hist['Returns'], 100 - (confidence_interval * 100))\n",
    "print(VaR)"
   ]
  },
  {
   "cell_type": "markdown",
   "metadata": {},
   "source": [
    "## 0.99 confidence interval\n",
    "\n",
    "We expect to lose no more than 2.802% of the value of our position, 99% of the time"
   ]
  },
  {
   "cell_type": "code",
   "execution_count": null,
   "metadata": {},
   "outputs": [
    {
     "name": "stdout",
     "output_type": "stream",
     "text": [
      "0.02801595124727271\n"
     ]
    }
   ],
   "source": [
    "confidence_interval = 0.99\n",
    "VaR = -np.percentile(hist['Returns'], 100 - (confidence_interval * 100))\n",
    "print(VaR)"
   ]
  },
  {
   "cell_type": "markdown",
   "metadata": {},
   "source": [
    "## Distribution"
   ]
  },
  {
   "cell_type": "code",
   "execution_count": null,
   "metadata": {},
   "outputs": [
    {
     "data": {
      "text/plain": [
       "Text(0.5, 0, 'Returns (%)')"
      ]
     },
     "execution_count": 300,
     "metadata": {},
     "output_type": "execute_result"
    },
    {
     "data": {
      "image/png": "[encoded data removed]",
      "text/plain": [
       "<Figure size 1000x600 with 2 Axes>"
      ]
     },
     "metadata": {},
     "output_type": "display_data"
    }
   ],
   "source": [
    "fig, ax1 = plt.subplots(figsize=(10, 6))\n",
    "sns.kdeplot(data=hist, x=\"Returns\", ax=ax1)\n",
    "ax1.set_xlim((hist[\"Returns\"].min(), hist[\"Returns\"].max()))\n",
    "ax2 = ax1.twinx()\n",
    "ax1.axvline(np.percentile(hist['Returns'], 1), 0, 1, color='orange', ls='--', label=\"VaR at 99% confidence level\")\n",
    "ax1.axvline(np.percentile(hist['Returns'], 5), 0, 1, color='red', ls='--', label=\"VaR at 95% confidence level\")\n",
    "sns.histplot(data=hist, x=\"Returns\", bins=18, ax=ax2)\n",
    "ax1.legend()\n",
    "ax1.set_title('AAPL Returns Distribution')\n",
    "ax1.set_xlabel('Returns (%)')"
   ]
  },
  {
   "cell_type": "markdown",
   "metadata": {},
   "source": [
    "# Multi-asset Value at Risk for an equally weighted portfolio"
   ]
  },
  {
   "cell_type": "code",
   "execution_count": null,
   "metadata": {},
   "outputs": [
    {
     "name": "stdout",
     "output_type": "stream",
     "text": [
      "[*********************100%***********************]  1 of 1 completed\n",
      "[*********************100%***********************]  1 of 1 completed\n",
      "[*********************100%***********************]  1 of 1 completed\n",
      "[*********************100%***********************]  1 of 1 completed\n",
      "[*********************100%***********************]  1 of 1 completed\n"
     ]
    }
   ],
   "source": [
    "tickers = ['AAPL', 'MSFT', 'GOOG', 'META', 'TSLA']\n",
    "\n",
    "df = pd.DataFrame()\n",
    "for ticker in tickers:\n",
    "    data = yf.download(ticker, start='2023-01-01', end='2024-01-01')\n",
    "    df[ticker] = data['Adj Close']"
   ]
  },
  {
   "cell_type": "code",
   "execution_count": null,
   "metadata": {},
   "outputs": [
    {
     "data": {
      "text/html": [
       "<div>\n",
       "<style scoped>\n",
       "    .dataframe tbody tr th:only-of-type {\n",
       "        vertical-align: middle;\n",
       "    }\n",
       "\n",
       "    .dataframe tbody tr th {\n",
       "        vertical-align: top;\n",
       "    }\n",
       "\n",
       "    .dataframe thead th {\n",
       "        text-align: right;\n",
       "    }\n",
       "</style>\n",
       "<table border=\"1\" class=\"dataframe\">\n",
       "  <thead>\n",
       "    <tr style=\"text-align: right;\">\n",
       "      <th></th>\n",
       "      <th>AAPL</th>\n",
       "      <th>MSFT</th>\n",
       "      <th>GOOG</th>\n",
       "      <th>META</th>\n",
       "      <th>TSLA</th>\n",
       "    </tr>\n",
       "    <tr>\n",
       "      <th>Date</th>\n",
       "      <th></th>\n",
       "      <th></th>\n",
       "      <th></th>\n",
       "      <th></th>\n",
       "      <th></th>\n",
       "    </tr>\n",
       "  </thead>\n",
       "  <tbody>\n",
       "    <tr>\n",
       "      <th>2023-01-03</th>\n",
       "      <td>124.374802</td>\n",
       "      <td>237.474335</td>\n",
       "      <td>89.699997</td>\n",
       "      <td>124.739998</td>\n",
       "      <td>108.099998</td>\n",
       "    </tr>\n",
       "    <tr>\n",
       "      <th>2023-01-04</th>\n",
       "      <td>125.657639</td>\n",
       "      <td>227.086456</td>\n",
       "      <td>88.709999</td>\n",
       "      <td>127.370003</td>\n",
       "      <td>113.639999</td>\n",
       "    </tr>\n",
       "    <tr>\n",
       "      <th>2023-01-05</th>\n",
       "      <td>124.325081</td>\n",
       "      <td>220.356110</td>\n",
       "      <td>86.769997</td>\n",
       "      <td>126.940002</td>\n",
       "      <td>110.339996</td>\n",
       "    </tr>\n",
       "    <tr>\n",
       "      <th>2023-01-06</th>\n",
       "      <td>128.899506</td>\n",
       "      <td>222.953079</td>\n",
       "      <td>88.160004</td>\n",
       "      <td>130.020004</td>\n",
       "      <td>113.059998</td>\n",
       "    </tr>\n",
       "    <tr>\n",
       "      <th>2023-01-09</th>\n",
       "      <td>129.426559</td>\n",
       "      <td>225.123840</td>\n",
       "      <td>88.800003</td>\n",
       "      <td>129.470001</td>\n",
       "      <td>119.769997</td>\n",
       "    </tr>\n",
       "    <tr>\n",
       "      <th>...</th>\n",
       "      <td>...</td>\n",
       "      <td>...</td>\n",
       "      <td>...</td>\n",
       "      <td>...</td>\n",
       "      <td>...</td>\n",
       "    </tr>\n",
       "    <tr>\n",
       "      <th>2023-12-22</th>\n",
       "      <td>193.600006</td>\n",
       "      <td>374.579987</td>\n",
       "      <td>142.720001</td>\n",
       "      <td>353.390015</td>\n",
       "      <td>252.539993</td>\n",
       "    </tr>\n",
       "    <tr>\n",
       "      <th>2023-12-26</th>\n",
       "      <td>193.050003</td>\n",
       "      <td>374.660004</td>\n",
       "      <td>142.820007</td>\n",
       "      <td>354.829987</td>\n",
       "      <td>256.609985</td>\n",
       "    </tr>\n",
       "    <tr>\n",
       "      <th>2023-12-27</th>\n",
       "      <td>193.149994</td>\n",
       "      <td>374.070007</td>\n",
       "      <td>141.440002</td>\n",
       "      <td>357.829987</td>\n",
       "      <td>261.440002</td>\n",
       "    </tr>\n",
       "    <tr>\n",
       "      <th>2023-12-28</th>\n",
       "      <td>193.580002</td>\n",
       "      <td>375.279999</td>\n",
       "      <td>141.279999</td>\n",
       "      <td>358.320007</td>\n",
       "      <td>253.179993</td>\n",
       "    </tr>\n",
       "    <tr>\n",
       "      <th>2023-12-29</th>\n",
       "      <td>192.529999</td>\n",
       "      <td>376.040009</td>\n",
       "      <td>140.929993</td>\n",
       "      <td>353.959991</td>\n",
       "      <td>248.479996</td>\n",
       "    </tr>\n",
       "  </tbody>\n",
       "</table>\n",
       "<p>250 rows × 5 columns</p>\n",
       "</div>"
      ],
      "text/plain": [
       "                  AAPL        MSFT        GOOG        META        TSLA\n",
       "Date                                                                  \n",
       "2023-01-03  124.374802  237.474335   89.699997  124.739998  108.099998\n",
       "2023-01-04  125.657639  227.086456   88.709999  127.370003  113.639999\n",
       "2023-01-05  124.325081  220.356110   86.769997  126.940002  110.339996\n",
       "2023-01-06  128.899506  222.953079   88.160004  130.020004  113.059998\n",
       "2023-01-09  129.426559  225.123840   88.800003  129.470001  119.769997\n",
       "...                ...         ...         ...         ...         ...\n",
       "2023-12-22  193.600006  374.579987  142.720001  353.390015  252.539993\n",
       "2023-12-26  193.050003  374.660004  142.820007  354.829987  256.609985\n",
       "2023-12-27  193.149994  374.070007  141.440002  357.829987  261.440002\n",
       "2023-12-28  193.580002  375.279999  141.279999  358.320007  253.179993\n",
       "2023-12-29  192.529999  376.040009  140.929993  353.959991  248.479996\n",
       "\n",
       "[250 rows x 5 columns]"
      ]
     },
     "execution_count": 302,
     "metadata": {},
     "output_type": "execute_result"
    }
   ],
   "source": [
    "df"
   ]
  },
  {
   "cell_type": "code",
   "execution_count": null,
   "metadata": {},
   "outputs": [
    {
     "data": {
      "text/html": [
       "<div>\n",
       "<style scoped>\n",
       "    .dataframe tbody tr th:only-of-type {\n",
       "        vertical-align: middle;\n",
       "    }\n",
       "\n",
       "    .dataframe tbody tr th {\n",
       "        vertical-align: top;\n",
       "    }\n",
       "\n",
       "    .dataframe thead th {\n",
       "        text-align: right;\n",
       "    }\n",
       "</style>\n",
       "<table border=\"1\" class=\"dataframe\">\n",
       "  <thead>\n",
       "    <tr style=\"text-align: right;\">\n",
       "      <th></th>\n",
       "      <th>AAPL</th>\n",
       "      <th>MSFT</th>\n",
       "      <th>GOOG</th>\n",
       "      <th>META</th>\n",
       "      <th>TSLA</th>\n",
       "    </tr>\n",
       "    <tr>\n",
       "      <th>Date</th>\n",
       "      <th></th>\n",
       "      <th></th>\n",
       "      <th></th>\n",
       "      <th></th>\n",
       "      <th></th>\n",
       "    </tr>\n",
       "  </thead>\n",
       "  <tbody>\n",
       "    <tr>\n",
       "      <th>2023-01-04</th>\n",
       "      <td>0.010314</td>\n",
       "      <td>-0.043743</td>\n",
       "      <td>-0.011037</td>\n",
       "      <td>0.021084</td>\n",
       "      <td>0.051249</td>\n",
       "    </tr>\n",
       "    <tr>\n",
       "      <th>2023-01-05</th>\n",
       "      <td>-0.010605</td>\n",
       "      <td>-0.029638</td>\n",
       "      <td>-0.021869</td>\n",
       "      <td>-0.003376</td>\n",
       "      <td>-0.029039</td>\n",
       "    </tr>\n",
       "    <tr>\n",
       "      <th>2023-01-06</th>\n",
       "      <td>0.036794</td>\n",
       "      <td>0.011785</td>\n",
       "      <td>0.016019</td>\n",
       "      <td>0.024263</td>\n",
       "      <td>0.024651</td>\n",
       "    </tr>\n",
       "    <tr>\n",
       "      <th>2023-01-09</th>\n",
       "      <td>0.004089</td>\n",
       "      <td>0.009736</td>\n",
       "      <td>0.007260</td>\n",
       "      <td>-0.004230</td>\n",
       "      <td>0.059349</td>\n",
       "    </tr>\n",
       "    <tr>\n",
       "      <th>2023-01-10</th>\n",
       "      <td>0.004456</td>\n",
       "      <td>0.007617</td>\n",
       "      <td>0.004955</td>\n",
       "      <td>0.027188</td>\n",
       "      <td>-0.007681</td>\n",
       "    </tr>\n",
       "    <tr>\n",
       "      <th>...</th>\n",
       "      <td>...</td>\n",
       "      <td>...</td>\n",
       "      <td>...</td>\n",
       "      <td>...</td>\n",
       "      <td>...</td>\n",
       "    </tr>\n",
       "    <tr>\n",
       "      <th>2023-12-22</th>\n",
       "      <td>-0.005547</td>\n",
       "      <td>0.002784</td>\n",
       "      <td>0.006488</td>\n",
       "      <td>-0.001977</td>\n",
       "      <td>-0.007701</td>\n",
       "    </tr>\n",
       "    <tr>\n",
       "      <th>2023-12-26</th>\n",
       "      <td>-0.002841</td>\n",
       "      <td>0.000214</td>\n",
       "      <td>0.000701</td>\n",
       "      <td>0.004075</td>\n",
       "      <td>0.016116</td>\n",
       "    </tr>\n",
       "    <tr>\n",
       "      <th>2023-12-27</th>\n",
       "      <td>0.000518</td>\n",
       "      <td>-0.001575</td>\n",
       "      <td>-0.009663</td>\n",
       "      <td>0.008455</td>\n",
       "      <td>0.018822</td>\n",
       "    </tr>\n",
       "    <tr>\n",
       "      <th>2023-12-28</th>\n",
       "      <td>0.002226</td>\n",
       "      <td>0.003235</td>\n",
       "      <td>-0.001131</td>\n",
       "      <td>0.001369</td>\n",
       "      <td>-0.031594</td>\n",
       "    </tr>\n",
       "    <tr>\n",
       "      <th>2023-12-29</th>\n",
       "      <td>-0.005424</td>\n",
       "      <td>0.002025</td>\n",
       "      <td>-0.002477</td>\n",
       "      <td>-0.012168</td>\n",
       "      <td>-0.018564</td>\n",
       "    </tr>\n",
       "  </tbody>\n",
       "</table>\n",
       "<p>249 rows × 5 columns</p>\n",
       "</div>"
      ],
      "text/plain": [
       "                AAPL      MSFT      GOOG      META      TSLA\n",
       "Date                                                        \n",
       "2023-01-04  0.010314 -0.043743 -0.011037  0.021084  0.051249\n",
       "2023-01-05 -0.010605 -0.029638 -0.021869 -0.003376 -0.029039\n",
       "2023-01-06  0.036794  0.011785  0.016019  0.024263  0.024651\n",
       "2023-01-09  0.004089  0.009736  0.007260 -0.004230  0.059349\n",
       "2023-01-10  0.004456  0.007617  0.004955  0.027188 -0.007681\n",
       "...              ...       ...       ...       ...       ...\n",
       "2023-12-22 -0.005547  0.002784  0.006488 -0.001977 -0.007701\n",
       "2023-12-26 -0.002841  0.000214  0.000701  0.004075  0.016116\n",
       "2023-12-27  0.000518 -0.001575 -0.009663  0.008455  0.018822\n",
       "2023-12-28  0.002226  0.003235 -0.001131  0.001369 -0.031594\n",
       "2023-12-29 -0.005424  0.002025 -0.002477 -0.012168 -0.018564\n",
       "\n",
       "[249 rows x 5 columns]"
      ]
     },
     "execution_count": 303,
     "metadata": {},
     "output_type": "execute_result"
    }
   ],
   "source": [
    "returns = df.pct_change()\n",
    "returns = returns.dropna()\n",
    "returns"
   ]
  },
  {
   "cell_type": "code",
   "execution_count": null,
   "metadata": {},
   "outputs": [
    {
     "name": "stdout",
     "output_type": "stream",
     "text": [
      "[0.2 0.2 0.2 0.2 0.2]\n"
     ]
    }
   ],
   "source": [
    "portfolio_value = 1000000\n",
    "weights = np.array([1/len(tickers)]*len(tickers))\n",
    "print(weights)"
   ]
  },
  {
   "cell_type": "code",
   "execution_count": null,
   "metadata": {},
   "outputs": [
    {
     "name": "stdout",
     "output_type": "stream",
     "text": [
      "Date\n",
      "2023-01-04    0.005573\n",
      "2023-01-05   -0.018905\n",
      "2023-01-06    0.022703\n",
      "2023-01-09    0.015241\n",
      "2023-01-10    0.007307\n",
      "                ...   \n",
      "2023-12-22   -0.001191\n",
      "2023-12-26    0.003653\n",
      "2023-12-27    0.003312\n",
      "2023-12-28   -0.005179\n",
      "2023-12-29   -0.007322\n",
      "Length: 249, dtype: float64\n"
     ]
    }
   ],
   "source": [
    "historical_returns = (returns * weights).sum(axis =1)\n",
    "print(historical_returns)"
   ]
  },
  {
   "cell_type": "code",
   "execution_count": null,
   "metadata": {},
   "outputs": [
    {
     "name": "stdout",
     "output_type": "stream",
     "text": [
      "Date\n",
      "2023-03-16    0.326000\n",
      "2023-03-17    0.310985\n",
      "2023-03-20    0.332512\n",
      "2023-03-21    0.341047\n",
      "2023-03-22    0.311002\n",
      "                ...   \n",
      "2023-12-22    0.064179\n",
      "2023-12-26    0.086230\n",
      "2023-12-27    0.077599\n",
      "2023-12-28    0.071306\n",
      "2023-12-29    0.082954\n",
      "Length: 200, dtype: float64\n"
     ]
    }
   ],
   "source": [
    "days = 50\n",
    "\n",
    "range_returns = historical_returns.rolling(window = days).sum()\n",
    "range_returns = range_returns.dropna()\n",
    "print(range_returns)"
   ]
  },
  {
   "cell_type": "markdown",
   "metadata": {},
   "source": [
    "## 0.99 confidence interval\n",
    "\n",
    "We expect to lose no more than $65334.43 of the value of our position, 99% of the time"
   ]
  },
  {
   "cell_type": "code",
   "execution_count": null,
   "metadata": {},
   "outputs": [
    {
     "name": "stdout",
     "output_type": "stream",
     "text": [
      "65334.40834291362\n"
     ]
    }
   ],
   "source": [
    "confidence_interval = 0.99\n",
    "\n",
    "VaR = -np.percentile(range_returns, 100 - (confidence_interval * 100))*portfolio_value\n",
    "print(VaR)"
   ]
  },
  {
   "cell_type": "markdown",
   "metadata": {},
   "source": [
    "## Distribution"
   ]
  },
  {
   "cell_type": "code",
   "execution_count": null,
   "metadata": {},
   "outputs": [
    {
     "data": {
      "image/png": "[encoded data removed]",
      "text/plain": [
       "<Figure size 640x480 with 1 Axes>"
      ]
     },
     "metadata": {},
     "output_type": "display_data"
    }
   ],
   "source": [
    "return_window = days\n",
    "range_returns = historical_returns.rolling(window=return_window).sum()\n",
    "range_returns = range_returns.dropna()\n",
    "\n",
    "range_returns_dollar = range_returns * portfolio_value\n",
    "\n",
    "sns.histplot(range_returns_dollar, bins=25, kde=True)\n",
    "plt.xlabel(f'{return_window}-Day Portfolio Return (Dollar Value)')\n",
    "plt.ylabel('Frequency')\n",
    "plt.title(f'Distribution of Portfolio {return_window}-Day Returns (Dollar Value)')\n",
    "plt.axvline(-VaR, color='r', linestyle='dashed', linewidth=2, label=f'VaR at {confidence_interval:.0%} confidence level')\n",
    "plt.legend()\n",
    "plt.show()"
   ]
  }
 ],
 "metadata": {
  "kernelspec": {
   "display_name": "Python 3",
   "language": "python",
   "name": "python3"
  },
  "language_info": {
   "codemirror_mode": {
    "name": "ipython",
    "version": 3
   },
   "file_extension": ".py",
   "mimetype": "text/x-python",
   "name": "python",
   "nbconvert_exporter": "python",
   "pygments_lexer": "ipython3",
   "version": "3.10.11"
  }
 },
 "nbformat": 4,
 "nbformat_minor": 2
}
